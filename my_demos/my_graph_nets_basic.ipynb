{
 "cells": [
  {
   "cell_type": "code",
   "execution_count": 1,
   "metadata": {},
   "outputs": [
    {
     "name": "stdout",
     "output_type": "stream",
     "text": [
      "\n",
      "WARNING: The TensorFlow contrib module will not be included in TensorFlow 2.0.\n",
      "For more information, please see:\n",
      "  * https://github.com/tensorflow/community/blob/master/rfcs/20180907-contrib-sunset.md\n",
      "  * https://github.com/tensorflow/addons\n",
      "If you depend on functionality not listed there, please file an issue.\n",
      "\n"
     ]
    }
   ],
   "source": [
    "#@title #### (Imports)\n",
    "\n",
    "from __future__ import absolute_import\n",
    "from __future__ import division\n",
    "from __future__ import print_function\n",
    "\n",
    "from graph_nets import blocks\n",
    "from graph_nets import graphs\n",
    "from graph_nets import modules\n",
    "from graph_nets import utils_np\n",
    "from graph_nets import utils_tf\n",
    "\n",
    "import matplotlib.pyplot as plt\n",
    "import networkx as nx\n",
    "import numpy as np\n",
    "import sonnet as snt\n",
    "import tensorflow as tf"
   ]
  },
  {
   "cell_type": "code",
   "execution_count": 7,
   "metadata": {},
   "outputs": [],
   "source": [
    "NODES = \"nodes\"\n",
    "EDGES = \"edges\"\n",
    "RECEIVERS = \"receivers\"\n",
    "SENDERS = \"senders\"\n",
    "GLOBALS = \"globals\"\n",
    "N_NODE = \"n_node\"\n",
    "N_EDGE = \"n_edge\"\n",
    "ALL_FIELDS = (NODES, EDGES, RECEIVERS, SENDERS, GLOBALS, N_NODE, N_EDGE)"
   ]
  },
  {
   "cell_type": "code",
   "execution_count": 2,
   "metadata": {},
   "outputs": [],
   "source": [
    "# Global features for graph 0.\n",
    "globals_0 = [1., 2., 3.]\n",
    "\n",
    "# Node features for graph 0.\n",
    "nodes_0 = [[10., 20., 30.],  # Node 0\n",
    "           [11., 21., 31.],  # Node 1\n",
    "           [12., 22., 32.],  # Node 2\n",
    "           [13., 23., 33.],  # Node 3\n",
    "           [14., 24., 34.]]  # Node 4\n",
    "\n",
    "# Edge features for graph 0.\n",
    "edges_0 = [[100., 200.],  # Edge 0\n",
    "           [101., 201.],  # Edge 1\n",
    "           [102., 202.],  # Edge 2\n",
    "           [103., 203.],  # Edge 3\n",
    "           [104., 204.],  # Edge 4\n",
    "           [105., 205.]]  # Edge 5\n",
    "\n",
    "# The sender and receiver nodes associated with each edge for graph 0.\n",
    "senders_0 = [0,  # Index of the sender node for edge 0\n",
    "             1,  # Index of the sender node for edge 1\n",
    "             1,  # Index of the sender node for edge 2\n",
    "             2,  # Index of the sender node for edge 3\n",
    "             2,  # Index of the sender node for edge 4\n",
    "             3]  # Index of the sender node for edge 5\n",
    "receivers_0 = [1,  # Index of the receiver node for edge 0\n",
    "               2,  # Index of the receiver node for edge 1\n",
    "               3,  # Index of the receiver node for edge 2\n",
    "               0,  # Index of the receiver node for edge 3\n",
    "               3,  # Index of the receiver node for edge 4\n",
    "               4]  # Index of the receiver node for edge 5\n",
    "\n",
    "# Global features for graph 1.\n",
    "globals_1 = [1001., 1002., 1003.]\n",
    "\n",
    "# Node features for graph 1.\n",
    "nodes_1 = [[1010., 1020., 1030.],  # Node 0\n",
    "           [1011., 1021., 1031.]]  # Node 1\n",
    "\n",
    "# Edge features for graph 1.\n",
    "edges_1 = [[1100., 1200.],  # Edge 0\n",
    "           [1101., 1201.],  # Edge 1\n",
    "           [1102., 1202.],  # Edge 2\n",
    "           [1103., 1203.]]  # Edge 3\n",
    "\n",
    "# The sender and receiver nodes associated with each edge for graph 1.\n",
    "senders_1 = [0,  # Index of the sender node for edge 0\n",
    "             0,  # Index of the sender node for edge 1\n",
    "             1,  # Index of the sender node for edge 2\n",
    "             1]  # Index of the sender node for edge 3\n",
    "receivers_1 = [0,  # Index of the receiver node for edge 0\n",
    "               1,  # Index of the receiver node for edge 1\n",
    "               0,  # Index of the receiver node for edge 2\n",
    "               0]  # Index of the receiver node for edge 3\n",
    "\n",
    "data_dict_0 = {\n",
    "    \"globals\": globals_0,\n",
    "    \"nodes\": nodes_0,\n",
    "    \"edges\": edges_0,\n",
    "    \"senders\": senders_0,\n",
    "    \"receivers\": receivers_0\n",
    "}\n",
    "\n",
    "data_dict_1 = {\n",
    "    \"globals\": globals_1,\n",
    "    \"nodes\": nodes_1,\n",
    "    \"edges\": edges_1,\n",
    "    \"senders\": senders_1,\n",
    "    \"receivers\": receivers_1\n",
    "}"
   ]
  },
  {
   "cell_type": "code",
   "execution_count": 3,
   "metadata": {},
   "outputs": [],
   "source": [
    "data_dict_list = [data_dict_0, data_dict_1]\n",
    "graphs_tuple = utils_np.data_dicts_to_graphs_tuple(data_dict_list)"
   ]
  },
  {
   "cell_type": "code",
   "execution_count": 8,
   "metadata": {},
   "outputs": [],
   "source": [
    "def print_graphs_tuple(graphs_tuple):\n",
    "    graph_dtypes = graphs_tuple.map(\n",
    "      lambda v: tf.as_dtype(v.dtype) if v is not None else None, ALL_FIELDS)\n",
    "  \n",
    "    graph_shapes = graphs_tuple.map(\n",
    "      lambda v: list(v.shape) if v is not None else None, ALL_FIELDS)\n",
    "    print(\"graph_dtypes:\",graph_dtypes)\n",
    "    print(\"graph_shapes:\",graph_shapes)\n",
    "    \n",
    "    print(\"Shapes of `GraphsTuple`'s fields:\")\n",
    "    print(graphs_tuple.map(lambda x: x if x is None else x.shape, fields=graphs.ALL_FIELDS))\n",
    "    print(\"\\nData contained in `GraphsTuple`'s fields:\")\n",
    "    print(\"globals:\\n{}\".format(graphs_tuple.globals))\n",
    "    print(\"nodes:\\n{}\".format(graphs_tuple.nodes))\n",
    "    print(\"edges:\\n{}\".format(graphs_tuple.edges))\n",
    "    print(\"senders:\\n{}\".format(graphs_tuple.senders))\n",
    "    print(\"receivers:\\n{}\".format(graphs_tuple.receivers))\n",
    "    print(\"n_node:\\n{}\".format(graphs_tuple.n_node))\n",
    "    print(\"n_edge:\\n{}\".format(graphs_tuple.n_edge))"
   ]
  },
  {
   "cell_type": "code",
   "execution_count": 9,
   "metadata": {},
   "outputs": [
    {
     "name": "stdout",
     "output_type": "stream",
     "text": [
      "graph_dtypes: GraphsTuple(nodes=tf.float64, edges=tf.float64, receivers=tf.int32, senders=tf.int32, globals=tf.float64, n_node=tf.int32, n_edge=tf.int32)\n",
      "graph_shapes: GraphsTuple(nodes=[7, 3], edges=[10, 2], receivers=[10], senders=[10], globals=[2, 3], n_node=[2], n_edge=[2])\n",
      "Shapes of `GraphsTuple`'s fields:\n",
      "GraphsTuple(nodes=(7, 3), edges=(10, 2), receivers=(10,), senders=(10,), globals=(2, 3), n_node=(2,), n_edge=(2,))\n",
      "\n",
      "Data contained in `GraphsTuple`'s fields:\n",
      "globals:\n",
      "[[1.000e+00 2.000e+00 3.000e+00]\n",
      " [1.001e+03 1.002e+03 1.003e+03]]\n",
      "nodes:\n",
      "[[  10.   20.   30.]\n",
      " [  11.   21.   31.]\n",
      " [  12.   22.   32.]\n",
      " [  13.   23.   33.]\n",
      " [  14.   24.   34.]\n",
      " [1010. 1020. 1030.]\n",
      " [1011. 1021. 1031.]]\n",
      "edges:\n",
      "[[ 100.  200.]\n",
      " [ 101.  201.]\n",
      " [ 102.  202.]\n",
      " [ 103.  203.]\n",
      " [ 104.  204.]\n",
      " [ 105.  205.]\n",
      " [1100. 1200.]\n",
      " [1101. 1201.]\n",
      " [1102. 1202.]\n",
      " [1103. 1203.]]\n",
      "senders:\n",
      "[0 1 1 2 2 3 5 5 6 6]\n",
      "receivers:\n",
      "[1 2 3 0 3 4 5 6 5 5]\n",
      "n_node:\n",
      "[5 2]\n",
      "n_edge:\n",
      "[6 4]\n"
     ]
    }
   ],
   "source": [
    "print_graphs_tuple(graphs_tuple)"
   ]
  },
  {
   "cell_type": "code",
   "execution_count": null,
   "metadata": {},
   "outputs": [],
   "source": []
  }
 ],
 "metadata": {
  "kernelspec": {
   "display_name": "Python 3",
   "language": "python",
   "name": "python3"
  },
  "language_info": {
   "codemirror_mode": {
    "name": "ipython",
    "version": 3
   },
   "file_extension": ".py",
   "mimetype": "text/x-python",
   "name": "python",
   "nbconvert_exporter": "python",
   "pygments_lexer": "ipython3",
   "version": "3.6.8"
  }
 },
 "nbformat": 4,
 "nbformat_minor": 2
}
