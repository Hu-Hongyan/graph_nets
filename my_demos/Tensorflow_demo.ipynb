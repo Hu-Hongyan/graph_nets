{
 "cells": [
  {
   "cell_type": "code",
   "execution_count": 1,
   "metadata": {},
   "outputs": [],
   "source": [
    "import tensorflow as tf"
   ]
  },
  {
   "cell_type": "code",
   "execution_count": 8,
   "metadata": {},
   "outputs": [
    {
     "data": {
      "text/plain": [
       "'1.13.1'"
      ]
     },
     "execution_count": 8,
     "metadata": {},
     "output_type": "execute_result"
    }
   ],
   "source": [
    "tf.__version__"
   ]
  },
  {
   "cell_type": "markdown",
   "metadata": {},
   "source": [
    "# tf.constant"
   ]
  },
  {
   "cell_type": "code",
   "execution_count": 2,
   "metadata": {},
   "outputs": [],
   "source": [
    "a = tf.constant([1,2], name = 'a')\n",
    "b = tf.constant([1,2], name = 'b')\n",
    "sum = tf.add(a,b,name='sum_ab')"
   ]
  },
  {
   "cell_type": "code",
   "execution_count": 4,
   "metadata": {},
   "outputs": [
    {
     "name": "stdout",
     "output_type": "stream",
     "text": [
      "Tensor(\"a:0\", shape=(2,), dtype=int32)\n",
      "Tensor(\"b:0\", shape=(2,), dtype=int32)\n",
      "Tensor(\"sum_ab:0\", shape=(2,), dtype=int32)\n"
     ]
    }
   ],
   "source": [
    "print(a)\n",
    "print(b)\n",
    "print(sum)"
   ]
  },
  {
   "cell_type": "code",
   "execution_count": 5,
   "metadata": {},
   "outputs": [],
   "source": [
    "with tf.Session() as sess:\n",
    "    result = sess.run(sum)\n"
   ]
  },
  {
   "cell_type": "code",
   "execution_count": 6,
   "metadata": {},
   "outputs": [
    {
     "data": {
      "text/plain": [
       "array([2, 4])"
      ]
     },
     "execution_count": 6,
     "metadata": {},
     "output_type": "execute_result"
    }
   ],
   "source": [
    "result"
   ]
  },
  {
   "cell_type": "markdown",
   "metadata": {},
   "source": [
    "# tf.placeholder"
   ]
  },
  {
   "cell_type": "code",
   "execution_count": 9,
   "metadata": {},
   "outputs": [],
   "source": [
    "a_ph = tf.placeholder(tf.float32)\n",
    "b_ph = tf.placeholder(tf.float32)\n",
    "adder_node = a_ph + b_ph"
   ]
  },
  {
   "cell_type": "code",
   "execution_count": 10,
   "metadata": {},
   "outputs": [
    {
     "name": "stdout",
     "output_type": "stream",
     "text": [
      "Tensor(\"Placeholder:0\", dtype=float32)\n",
      "Tensor(\"Placeholder_1:0\", dtype=float32)\n",
      "Tensor(\"add:0\", dtype=float32)\n"
     ]
    }
   ],
   "source": [
    "print(a_ph)\n",
    "print(b_ph)\n",
    "print(adder_node)"
   ]
  },
  {
   "cell_type": "code",
   "execution_count": 19,
   "metadata": {},
   "outputs": [
    {
     "name": "stdout",
     "output_type": "stream",
     "text": [
      "3+4: 7.0\n",
      "5+6: 11.0\n",
      "[1,2,3,4]+[1,2,3,4]: [2. 4. 6. 8.]\n",
      "[[1],[2]]+[[3],[4]]: [[4.]\n",
      " [6.]]\n",
      "[[1,2],[2,2]]+[[3,2],[4,2]]: [[4. 4.]\n",
      " [6. 4.]]\n"
     ]
    }
   ],
   "source": [
    "with tf.Session() as sess:\n",
    "    result = sess.run(adder_node, feed_dict={a_ph:3, b_ph:4})\n",
    "    print(\"3+4:\",result)\n",
    "    result = sess.run(adder_node, feed_dict={a_ph:5, b_ph:6})\n",
    "    print(\"5+6:\",result)\n",
    "    result = sess.run(adder_node, feed_dict={a_ph:[1,2,3,4], b_ph:[1,2,3,4]})\n",
    "    print(\"[1,2,3,4]+[1,2,3,4]:\",result)\n",
    "    result = sess.run(adder_node, feed_dict={a_ph:[[1],[2]], b_ph:[[3],[4]]})\n",
    "    print(\"[[1],[2]]+[[3],[4]]:\",result)\n",
    "    result = sess.run(adder_node, feed_dict={a_ph:[[1,2],[2,2]], b_ph:[[3,2],[4,2]]})\n",
    "    print(\"[[1,2],[2,2]]+[[3,2],[4,2]]:\",result)"
   ]
  },
  {
   "cell_type": "code",
   "execution_count": 20,
   "metadata": {},
   "outputs": [
    {
     "name": "stdout",
     "output_type": "stream",
     "text": [
      "Tensor(\"Placeholder_2:0\", shape=(2, 2), dtype=float32)\n",
      "Tensor(\"Placeholder_3:0\", shape=(2, 2), dtype=float32)\n",
      "Tensor(\"add_1:0\", shape=(2, 2), dtype=float32)\n"
     ]
    }
   ],
   "source": [
    "a_ph = tf.placeholder(tf.float32, shape=(2,2))\n",
    "b_ph = tf.placeholder(tf.float32, shape=(2,2))\n",
    "adder_node = a_ph + b_ph\n",
    "print(a_ph)\n",
    "print(b_ph)\n",
    "print(adder_node)"
   ]
  },
  {
   "cell_type": "code",
   "execution_count": 27,
   "metadata": {},
   "outputs": [
    {
     "name": "stdout",
     "output_type": "stream",
     "text": [
      "feed_dict a_ph: [[1, 2], [2, 3]] feed_dict b_ph: [[1, 2], [2, 3]]\n",
      "result: [[2. 4.]\n",
      " [4. 6.]]\n"
     ]
    }
   ],
   "source": [
    "with tf.Session() as sess:\n",
    "    feed_dict={a_ph:[[1,2],[2,3]], b_ph:[[1,2],[2,3]]}\n",
    "    result = sess.run(adder_node, feed_dict)\n",
    "    print(\"feed_dict a_ph:\",feed_dict[a_ph], \"feed_dict b_ph:\",feed_dict[b_ph])\n",
    "    print(\"result:\", result)\n",
    "#error\n",
    "#     feed_dict={a_ph:[[[1,2],[2,3]],[[1,2],[2,3]]], b_ph:[[[1,2],[2,3]],[[1,2],[2,3]]]}\n",
    "#     result = sess.run(adder_node, feed_dict)\n",
    "#     print(\"feed_dict a_ph:\",feed_dict[a_ph], \"feed_dict b_ph:\",feed_dict[b_ph])\n",
    "#     print(\"result:\", result)\n",
    "# #error\n",
    "#     feed_dict={a_ph:[[1,2],[2,3],[1,2],[2,3]], b_ph:[[1,2],[2,3],[1,2],[2,3]]}\n",
    "#     result = sess.run(adder_node, feed_dict)\n",
    "#     print(\"feed_dict a_ph:\",feed_dict[a_ph], \"feed_dict b_ph:\",feed_dict[b_ph])\n",
    "#     print(\"result:\", result)"
   ]
  },
  {
   "cell_type": "markdown",
   "metadata": {},
   "source": [
    "## 想要使用一个batch来计算，需要设置placeholder的shape=（None, 维度）"
   ]
  },
  {
   "cell_type": "markdown",
   "metadata": {},
   "source": [
    "1.若ph的shape=(1,k) 当feed的数据shape=(n, k) 时，表示一次送入多个batch的shape=(1,k)的数据\n",
    "2.但是当ph的shape第一维度大于1时，如shape=(a, k) a > 1， 此时feed数据不能为 shape=(a*n, k) 或者 shape=(n, a, k)。\n",
    "此时，为了实现batch，应该将ph的shape=(None, k)，在feed时：shape=(m, k)即可\n",
    "\n",
    "**其实核心就是，一行就表示一次样本数据，n行就表示batch为n的样本数据**"
   ]
  },
  {
   "cell_type": "code",
   "execution_count": 28,
   "metadata": {},
   "outputs": [
    {
     "name": "stdout",
     "output_type": "stream",
     "text": [
      "Tensor(\"Placeholder_4:0\", shape=(?, 2), dtype=float32)\n",
      "Tensor(\"Placeholder_5:0\", shape=(?, 2), dtype=float32)\n",
      "Tensor(\"add_2:0\", shape=(?, 2), dtype=float32)\n"
     ]
    }
   ],
   "source": [
    "a_ph = tf.placeholder(tf.float32, shape=(None,2))\n",
    "b_ph = tf.placeholder(tf.float32, shape=(None,2))\n",
    "adder_node = a_ph + b_ph\n",
    "print(a_ph)\n",
    "print(b_ph)\n",
    "print(adder_node)"
   ]
  },
  {
   "cell_type": "code",
   "execution_count": 30,
   "metadata": {},
   "outputs": [
    {
     "name": "stdout",
     "output_type": "stream",
     "text": [
      "feed_dict a_ph: [[1, 2], [2, 3]] feed_dict b_ph: [[1, 2], [2, 3]]\n",
      "result: [[2. 4.]\n",
      " [4. 6.]]\n",
      "feed_dict a_ph: [[1, 2], [2, 3], [1, 2], [2, 3]] feed_dict b_ph: [[1, 2], [2, 3], [1, 2], [2, 3]]\n",
      "result: [[2. 4.]\n",
      " [4. 6.]\n",
      " [2. 4.]\n",
      " [4. 6.]]\n"
     ]
    }
   ],
   "source": [
    "with tf.Session() as sess:\n",
    "    feed_dict={a_ph:[[1,2],[2,3]], b_ph:[[1,2],[2,3]]}\n",
    "    result = sess.run(adder_node, feed_dict)\n",
    "    print(\"feed_dict a_ph:\",feed_dict[a_ph], \"feed_dict b_ph:\",feed_dict[b_ph])\n",
    "    print(\"result:\", result)\n",
    "#error 2*2*2 不满足 2*2\n",
    "#     feed_dict={a_ph:[[[1,2],[2,3]],[[1,2],[2,3]]], b_ph:[[[1,2],[2,3]],[[1,2],[2,3]]]}\n",
    "#     result = sess.run(adder_node, feed_dict)\n",
    "#     print(\"feed_dict a_ph:\",feed_dict[a_ph], \"feed_dict b_ph:\",feed_dict[b_ph])\n",
    "#     print(\"result:\", result)\n",
    "#wright 4*2 满足 n*2 \n",
    "    feed_dict={a_ph:[[1,2],[2,3],[1,2],[2,3]], b_ph:[[1,2],[2,3],[1,2],[2,3]]}\n",
    "    result = sess.run(adder_node, feed_dict)\n",
    "    print(\"feed_dict a_ph:\",feed_dict[a_ph], \"feed_dict b_ph:\",feed_dict[b_ph])\n",
    "    print(\"result:\", result)"
   ]
  },
  {
   "cell_type": "code",
   "execution_count": null,
   "metadata": {},
   "outputs": [],
   "source": []
  }
 ],
 "metadata": {
  "kernelspec": {
   "display_name": "Python 3",
   "language": "python",
   "name": "python3"
  },
  "language_info": {
   "codemirror_mode": {
    "name": "ipython",
    "version": 3
   },
   "file_extension": ".py",
   "mimetype": "text/x-python",
   "name": "python",
   "nbconvert_exporter": "python",
   "pygments_lexer": "ipython3",
   "version": "3.6.8"
  }
 },
 "nbformat": 4,
 "nbformat_minor": 2
}
